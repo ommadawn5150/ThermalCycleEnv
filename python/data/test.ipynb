{
 "cells": [
  {
   "cell_type": "code",
   "execution_count": 1,
   "metadata": {},
   "outputs": [],
   "source": [
    "import os\n",
    "import time\n",
    "from datetime import datetime, timezone\n",
    "from influxdb import InfluxDBClient\n",
    "import sys\n",
    "import serial\n",
    "import re\n",
    "import numpy as np\n",
    "import pandas as pd"
   ]
  },
  {
   "cell_type": "code",
   "execution_count": 132,
   "metadata": {},
   "outputs": [],
   "source": [
    "ser = serial.Serial('/dev/cu.usbmodem14401',9600,timeout=None)"
   ]
  },
  {
   "cell_type": "code",
   "execution_count": 195,
   "metadata": {},
   "outputs": [],
   "source": [
    "def ArduinoRead(c,ser):\n",
    "    ser.write((c + \"\\n\").encode('utf-8'))\n",
    "    #time.sleep(1)\n",
    "    time.sleep(0.2)\n",
    "    data = ser.readline().decode().strip().split(',')\n",
    "    data = [float(item) for item in data]\n",
    "    return(data)"
   ]
  },
  {
   "cell_type": "code",
   "execution_count": 196,
   "metadata": {},
   "outputs": [
    {
     "ename": "SerialException",
     "evalue": "write failed: [Errno 6] Device not configured",
     "output_type": "error",
     "traceback": [
      "\u001b[0;31m---------------------------------------------------------------------------\u001b[0m",
      "\u001b[0;31mOSError\u001b[0m                                   Traceback (most recent call last)",
      "File \u001b[0;32m~/.pyenv/versions/3.10.4/lib/python3.10/site-packages/serial/serialposix.py:621\u001b[0m, in \u001b[0;36mSerial.write\u001b[0;34m(self, data)\u001b[0m\n\u001b[1;32m    620\u001b[0m \u001b[39mtry\u001b[39;00m:\n\u001b[0;32m--> 621\u001b[0m     n \u001b[39m=\u001b[39m os\u001b[39m.\u001b[39;49mwrite(\u001b[39mself\u001b[39;49m\u001b[39m.\u001b[39;49mfd, d)\n\u001b[1;32m    622\u001b[0m     \u001b[39mif\u001b[39;00m timeout\u001b[39m.\u001b[39mis_non_blocking:\n\u001b[1;32m    623\u001b[0m         \u001b[39m# Zero timeout indicates non-blocking - simply return the\u001b[39;00m\n\u001b[1;32m    624\u001b[0m         \u001b[39m# number of bytes of data actually written\u001b[39;00m\n",
      "\u001b[0;31mOSError\u001b[0m: [Errno 6] Device not configured",
      "\nDuring handling of the above exception, another exception occurred:\n",
      "\u001b[0;31mSerialException\u001b[0m                           Traceback (most recent call last)",
      "\u001b[1;32m/Users/masahiro/JLab/ThermalCycle/env/python/data/test.ipynb Cell 4'\u001b[0m in \u001b[0;36m<cell line: 1>\u001b[0;34m()\u001b[0m\n\u001b[1;32m      <a href='vscode-notebook-cell:/Users/masahiro/JLab/ThermalCycle/env/python/data/test.ipynb#ch0000007?line=0'>1</a>\u001b[0m \u001b[39mfor\u001b[39;00m i \u001b[39min\u001b[39;00m \u001b[39mrange\u001b[39m(\u001b[39m6\u001b[39m):\n\u001b[0;32m----> <a href='vscode-notebook-cell:/Users/masahiro/JLab/ThermalCycle/env/python/data/test.ipynb#ch0000007?line=1'>2</a>\u001b[0m     temp \u001b[39m=\u001b[39m ArduinoRead(\u001b[39m'\u001b[39;49m\u001b[39mt\u001b[39;49m\u001b[39m'\u001b[39;49m,ser)\n\u001b[1;32m      <a href='vscode-notebook-cell:/Users/masahiro/JLab/ThermalCycle/env/python/data/test.ipynb#ch0000007?line=2'>3</a>\u001b[0m     \u001b[39mprint\u001b[39m(temp)\n",
      "\u001b[1;32m/Users/masahiro/JLab/ThermalCycle/env/python/data/test.ipynb Cell 3'\u001b[0m in \u001b[0;36mArduinoRead\u001b[0;34m(c, ser)\u001b[0m\n\u001b[1;32m      <a href='vscode-notebook-cell:/Users/masahiro/JLab/ThermalCycle/env/python/data/test.ipynb#ch0000006?line=0'>1</a>\u001b[0m \u001b[39mdef\u001b[39;00m \u001b[39mArduinoRead\u001b[39m(c,ser):\n\u001b[0;32m----> <a href='vscode-notebook-cell:/Users/masahiro/JLab/ThermalCycle/env/python/data/test.ipynb#ch0000006?line=1'>2</a>\u001b[0m     ser\u001b[39m.\u001b[39;49mwrite((c \u001b[39m+\u001b[39;49m \u001b[39m\"\u001b[39;49m\u001b[39m\\n\u001b[39;49;00m\u001b[39m\"\u001b[39;49m)\u001b[39m.\u001b[39;49mencode(\u001b[39m'\u001b[39;49m\u001b[39mutf-8\u001b[39;49m\u001b[39m'\u001b[39;49m))\n\u001b[1;32m      <a href='vscode-notebook-cell:/Users/masahiro/JLab/ThermalCycle/env/python/data/test.ipynb#ch0000006?line=2'>3</a>\u001b[0m     \u001b[39m#time.sleep(1)\u001b[39;00m\n\u001b[1;32m      <a href='vscode-notebook-cell:/Users/masahiro/JLab/ThermalCycle/env/python/data/test.ipynb#ch0000006?line=3'>4</a>\u001b[0m     time\u001b[39m.\u001b[39msleep(\u001b[39m0.2\u001b[39m)\n",
      "File \u001b[0;32m~/.pyenv/versions/3.10.4/lib/python3.10/site-packages/serial/serialposix.py:655\u001b[0m, in \u001b[0;36mSerial.write\u001b[0;34m(self, data)\u001b[0m\n\u001b[1;32m    650\u001b[0m \u001b[39mexcept\u001b[39;00m \u001b[39mOSError\u001b[39;00m \u001b[39mas\u001b[39;00m e:\n\u001b[1;32m    651\u001b[0m     \u001b[39m# this is for Python 3.x where select.error is a subclass of\u001b[39;00m\n\u001b[1;32m    652\u001b[0m     \u001b[39m# OSError ignore BlockingIOErrors and EINTR. other errors are shown\u001b[39;00m\n\u001b[1;32m    653\u001b[0m     \u001b[39m# https://www.python.org/dev/peps/pep-0475.\u001b[39;00m\n\u001b[1;32m    654\u001b[0m     \u001b[39mif\u001b[39;00m e\u001b[39m.\u001b[39merrno \u001b[39mnot\u001b[39;00m \u001b[39min\u001b[39;00m (errno\u001b[39m.\u001b[39mEAGAIN, errno\u001b[39m.\u001b[39mEALREADY, errno\u001b[39m.\u001b[39mEWOULDBLOCK, errno\u001b[39m.\u001b[39mEINPROGRESS, errno\u001b[39m.\u001b[39mEINTR):\n\u001b[0;32m--> 655\u001b[0m         \u001b[39mraise\u001b[39;00m SerialException(\u001b[39m'\u001b[39m\u001b[39mwrite failed: \u001b[39m\u001b[39m{}\u001b[39;00m\u001b[39m'\u001b[39m\u001b[39m.\u001b[39mformat(e))\n\u001b[1;32m    656\u001b[0m \u001b[39mexcept\u001b[39;00m select\u001b[39m.\u001b[39merror \u001b[39mas\u001b[39;00m e:\n\u001b[1;32m    657\u001b[0m     \u001b[39m# this is for Python 2.x\u001b[39;00m\n\u001b[1;32m    658\u001b[0m     \u001b[39m# ignore BlockingIOErrors and EINTR. all errors are shown\u001b[39;00m\n\u001b[1;32m    659\u001b[0m     \u001b[39m# see also http://www.python.org/dev/peps/pep-3151/#select\u001b[39;00m\n\u001b[1;32m    660\u001b[0m     \u001b[39mif\u001b[39;00m e[\u001b[39m0\u001b[39m] \u001b[39mnot\u001b[39;00m \u001b[39min\u001b[39;00m (errno\u001b[39m.\u001b[39mEAGAIN, errno\u001b[39m.\u001b[39mEALREADY, errno\u001b[39m.\u001b[39mEWOULDBLOCK, errno\u001b[39m.\u001b[39mEINPROGRESS, errno\u001b[39m.\u001b[39mEINTR):\n",
      "\u001b[0;31mSerialException\u001b[0m: write failed: [Errno 6] Device not configured"
     ]
    }
   ],
   "source": [
    "for i in range(6):\n",
    "    temp = ArduinoRead('t',ser)\n",
    "    print(temp)"
   ]
  },
  {
   "cell_type": "code",
   "execution_count": 146,
   "metadata": {},
   "outputs": [],
   "source": [
    "def ReadTemp(ser):\n",
    "    ser.write((\"t\\n\").encode('utf-8'))\n",
    "    temps = []\n",
    "    for i in range(8):\n",
    "        temp = ser.readline().decode()\n",
    "        temps.append(float(temp))\n",
    "    return(temps)\n",
    "\n",
    "def ReadPressure(ser):\n",
    "    ser.write((\"p\\n\").encode('utf-8'))\n",
    "    pressures = []\n",
    "    for i in range(8):\n",
    "        p = float(ser.readline().decode())\n",
    "        p = (( ((p / 1023)*5) - 0) / 4.5 ) * (-100000)\n",
    "        pressures.append(p)\n",
    "    return(pressures)"
   ]
  },
  {
   "cell_type": "code",
   "execution_count": 148,
   "metadata": {},
   "outputs": [
    {
     "name": "stdout",
     "output_type": "stream",
     "text": [
      "[25.75, 0.0, 0.0, 0.0, 0.0, 0.0, 0.0, 0.0]\n"
     ]
    },
    {
     "ename": "KeyboardInterrupt",
     "evalue": "",
     "output_type": "error",
     "traceback": [
      "\u001b[0;31m---------------------------------------------------------------------------\u001b[0m",
      "\u001b[0;31mKeyboardInterrupt\u001b[0m                         Traceback (most recent call last)",
      "\u001b[1;32m/Users/masahiro/JLab/ThermalCycle/env/python/data/test.ipynb Cell 4'\u001b[0m in \u001b[0;36m<cell line: 2>\u001b[0;34m()\u001b[0m\n\u001b[1;32m      <a href='vscode-notebook-cell:/Users/masahiro/JLab/ThermalCycle/env/python/data/test.ipynb#ch0000003?line=0'>1</a>\u001b[0m \u001b[39mprint\u001b[39m(ReadTemp(ser))\n\u001b[0;32m----> <a href='vscode-notebook-cell:/Users/masahiro/JLab/ThermalCycle/env/python/data/test.ipynb#ch0000003?line=1'>2</a>\u001b[0m \u001b[39mprint\u001b[39m(ReadPressure(ser))\n",
      "\u001b[1;32m/Users/masahiro/JLab/ThermalCycle/env/python/data/test.ipynb Cell 3'\u001b[0m in \u001b[0;36mReadPressure\u001b[0;34m(ser)\u001b[0m\n\u001b[1;32m     <a href='vscode-notebook-cell:/Users/masahiro/JLab/ThermalCycle/env/python/data/test.ipynb#ch0000002?line=10'>11</a>\u001b[0m pressures \u001b[39m=\u001b[39m []\n\u001b[1;32m     <a href='vscode-notebook-cell:/Users/masahiro/JLab/ThermalCycle/env/python/data/test.ipynb#ch0000002?line=11'>12</a>\u001b[0m \u001b[39mfor\u001b[39;00m i \u001b[39min\u001b[39;00m \u001b[39mrange\u001b[39m(\u001b[39m8\u001b[39m):\n\u001b[0;32m---> <a href='vscode-notebook-cell:/Users/masahiro/JLab/ThermalCycle/env/python/data/test.ipynb#ch0000002?line=12'>13</a>\u001b[0m     p \u001b[39m=\u001b[39m \u001b[39mfloat\u001b[39m(ser\u001b[39m.\u001b[39;49mreadline()\u001b[39m.\u001b[39mdecode())\n\u001b[1;32m     <a href='vscode-notebook-cell:/Users/masahiro/JLab/ThermalCycle/env/python/data/test.ipynb#ch0000002?line=13'>14</a>\u001b[0m     p \u001b[39m=\u001b[39m (( ((p \u001b[39m/\u001b[39m \u001b[39m1023\u001b[39m)\u001b[39m*\u001b[39m\u001b[39m5\u001b[39m) \u001b[39m-\u001b[39m \u001b[39m0\u001b[39m) \u001b[39m/\u001b[39m \u001b[39m4.5\u001b[39m ) \u001b[39m*\u001b[39m (\u001b[39m-\u001b[39m\u001b[39m100000\u001b[39m)\n\u001b[1;32m     <a href='vscode-notebook-cell:/Users/masahiro/JLab/ThermalCycle/env/python/data/test.ipynb#ch0000002?line=14'>15</a>\u001b[0m     pressures\u001b[39m.\u001b[39mappend(p)\n",
      "File \u001b[0;32m~/.pyenv/versions/3.10.4/lib/python3.10/site-packages/serial/serialposix.py:565\u001b[0m, in \u001b[0;36mSerial.read\u001b[0;34m(self, size)\u001b[0m\n\u001b[1;32m    563\u001b[0m \u001b[39mwhile\u001b[39;00m \u001b[39mlen\u001b[39m(read) \u001b[39m<\u001b[39m size:\n\u001b[1;32m    564\u001b[0m     \u001b[39mtry\u001b[39;00m:\n\u001b[0;32m--> 565\u001b[0m         ready, _, _ \u001b[39m=\u001b[39m select\u001b[39m.\u001b[39;49mselect([\u001b[39mself\u001b[39;49m\u001b[39m.\u001b[39;49mfd, \u001b[39mself\u001b[39;49m\u001b[39m.\u001b[39;49mpipe_abort_read_r], [], [], timeout\u001b[39m.\u001b[39;49mtime_left())\n\u001b[1;32m    566\u001b[0m         \u001b[39mif\u001b[39;00m \u001b[39mself\u001b[39m\u001b[39m.\u001b[39mpipe_abort_read_r \u001b[39min\u001b[39;00m ready:\n\u001b[1;32m    567\u001b[0m             os\u001b[39m.\u001b[39mread(\u001b[39mself\u001b[39m\u001b[39m.\u001b[39mpipe_abort_read_r, \u001b[39m1000\u001b[39m)\n",
      "\u001b[0;31mKeyboardInterrupt\u001b[0m: "
     ]
    }
   ],
   "source": [
    "print(ReadTemp(ser))\n",
    "print(ReadPressure(ser))"
   ]
  },
  {
   "cell_type": "code",
   "execution_count": null,
   "metadata": {},
   "outputs": [],
   "source": []
  }
 ],
 "metadata": {
  "kernelspec": {
   "display_name": "Python 3.10.4 64-bit ('3.10.4')",
   "language": "python",
   "name": "python3"
  },
  "language_info": {
   "codemirror_mode": {
    "name": "ipython",
    "version": 3
   },
   "file_extension": ".py",
   "mimetype": "text/x-python",
   "name": "python",
   "nbconvert_exporter": "python",
   "pygments_lexer": "ipython3",
   "version": "3.10.4"
  },
  "orig_nbformat": 4,
  "vscode": {
   "interpreter": {
    "hash": "9bddf38e4e53a86c57628ede363ce97109d7342e68ddb07a339cd7f602964f23"
   }
  }
 },
 "nbformat": 4,
 "nbformat_minor": 2
}
